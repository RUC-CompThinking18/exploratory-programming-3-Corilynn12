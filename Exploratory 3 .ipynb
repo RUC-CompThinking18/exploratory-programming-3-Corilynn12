{
 "cells": [
  {
   "cell_type": "code",
   "execution_count": 87,
   "metadata": {
    "collapsed": false
   },
   "outputs": [],
   "source": [
    "import re\n",
    "source = open('18194-0.txt', \"r\")\n",
    "book = source.read()\n",
    "def gutenberg(book):\n",
    "    if type(book) != str:\n",
    "        raise TypeError(\"Not a string\")\n",
    "        #Raise TypeError for items that are not strings.\n",
    "    g = re.findall(r'\\b(\\w+at)\\b',book)\n",
    "#Finding all words in the text that end with 'at'\n",
    "#Using for loop to find words greater than 3 characters. \n",
    "    glass_word = []\n",
    "    for word in g:\n",
    "        if len(word) > 3:\n",
    "            glass_word.append(g)\n",
    "    return glass_word\n",
    "\n"
   ]
  },
  {
   "cell_type": "code",
   "execution_count": 85,
   "metadata": {
    "collapsed": false
   },
   "outputs": [
    {
     "name": "stdout",
     "output_type": "stream",
     "text": [
      "['that', 'that', 'that', 'avat', 'What', 'that', 'that', 'that', 'What', 'that', 'that', 'that', 'that', 'that', 'that', 'that', 'what', 'that', 'that', 'that', 'that', 'that', 'that', 'that', 'what', 'What', 'What', 'that', 'what', 'what', 'what', 'what', 'that', 'that', 'what', 'that', 'that', 'that', 'that', 'that', 'that', 'What', 'that', 'that', 'that', 'that', 'that', 'that', 'that', 'that', 'that', 'that', 'that', 'that', 'great', 'that', 'what', 'Great', 'that', 'that', 'that', 'that', 'What', 'that', 'that', 'that', 'that', 'that', 'that', 'that', 'that', 'what', 'that', 'that', 'that', 'that', 'that', 'format', 'what', 'that', 'format', 'format', 'format', 'that', 'that', 'that', 'that', 'that', 'that', 'that', 'that']\n"
     ]
    }
   ],
   "source": [
    "print(g)"
   ]
  },
  {
   "cell_type": "code",
   "execution_count": 54,
   "metadata": {
    "collapsed": false
   },
   "outputs": [
    {
     "data": {
      "text/plain": [
       "[]"
      ]
     },
     "execution_count": 54,
     "metadata": {},
     "output_type": "execute_result"
    }
   ],
   "source": []
  },
  {
   "cell_type": "code",
   "execution_count": null,
   "metadata": {
    "collapsed": true
   },
   "outputs": [],
   "source": []
  }
 ],
 "metadata": {
  "anaconda-cloud": {},
  "kernelspec": {
   "display_name": "Python [Root]",
   "language": "python",
   "name": "Python [Root]"
  },
  "language_info": {
   "codemirror_mode": {
    "name": "ipython",
    "version": 2
   },
   "file_extension": ".py",
   "mimetype": "text/x-python",
   "name": "python",
   "nbconvert_exporter": "python",
   "pygments_lexer": "ipython2",
   "version": "2.7.12"
  }
 },
 "nbformat": 4,
 "nbformat_minor": 0
}
